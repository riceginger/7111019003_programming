{
 "cells": [
  {
   "cell_type": "markdown",
   "id": "241b9364",
   "metadata": {},
   "source": [
    "數學運算"
   ]
  },
  {
   "cell_type": "code",
   "execution_count": 1,
   "id": "e5a94ee9",
   "metadata": {},
   "outputs": [
    {
     "name": "stdout",
     "output_type": "stream",
     "text": [
      "a + b = 103\n",
      "a - b = 97\n",
      "a * b = 300\n",
      "a / b = 33.333333333333336\n",
      "a // b = 33\n",
      "a % b = 1\n",
      "a ** b = 1000000\n"
     ]
    }
   ],
   "source": [
    "a = 100\n",
    "b = 3\n",
    "print(f\"{a + b = }\")\n",
    "print(f\"{a - b = }\")\n",
    "print(f\"{a * b = }\")\n",
    "print(f\"{a / b = }\") # 結果是浮點數\n",
    "print(f\"{a // b = }\") # 結果是整數\n",
    "print(f\"{a % b = }\") # 兩數相除的餘數\n",
    "print(f\"{a ** b = }\") # 指數"
   ]
  },
  {
   "cell_type": "markdown",
   "id": "b01fa583",
   "metadata": {},
   "source": [
    "IPO"
   ]
  },
  {
   "cell_type": "code",
   "execution_count": 2,
   "id": "937005c0",
   "metadata": {},
   "outputs": [
    {
     "name": "stdout",
     "output_type": "stream",
     "text": [
      "糗輸入你的身高(公尺):1.6\n",
      "糗輸入你的體重(公斤):50\n"
     ]
    }
   ],
   "source": [
    "# 請求用戶輸入身高和體重\n",
    "height = float(input(\"糗輸入你的身高(公尺):\"))\n",
    "weight = float(input(\"糗輸入你的體重(公斤):\"))"
   ]
  },
  {
   "cell_type": "code",
   "execution_count": 3,
   "id": "5787189a",
   "metadata": {},
   "outputs": [],
   "source": [
    "# 使用公式來計算BMI\n",
    "BMI = weight/(height**2)"
   ]
  },
  {
   "cell_type": "code",
   "execution_count": 4,
   "id": "7265fc32",
   "metadata": {},
   "outputs": [
    {
     "name": "stdout",
     "output_type": "stream",
     "text": [
      "您的BMI是:19.53\n"
     ]
    }
   ],
   "source": [
    "# 顯示計算得到的BMI值\n",
    "print(f\"您的BMI是:{BMI:.2f}\")"
   ]
  }
 ],
 "metadata": {
  "kernelspec": {
   "display_name": "Python 3 (ipykernel)",
   "language": "python",
   "name": "python3"
  },
  "language_info": {
   "codemirror_mode": {
    "name": "ipython",
    "version": 3
   },
   "file_extension": ".py",
   "mimetype": "text/x-python",
   "name": "python",
   "nbconvert_exporter": "python",
   "pygments_lexer": "ipython3",
   "version": "3.9.16"
  }
 },
 "nbformat": 4,
 "nbformat_minor": 5
}
