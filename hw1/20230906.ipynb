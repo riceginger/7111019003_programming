{
 "cells": [
  {
   "cell_type": "code",
   "execution_count": 1,
   "id": "937005c0",
   "metadata": {},
   "outputs": [
    {
     "name": "stdout",
     "output_type": "stream",
     "text": [
      "糗輸入你的身高(公尺):1.6\n",
      "糗輸入你的體重(公斤):50\n"
     ]
    }
   ],
   "source": [
    "# 請求用戶輸入身高和體重\n",
    "height = float(input(\"糗輸入你的身高(公尺):\"))\n",
    "weight = float(input(\"糗輸入你的體重(公斤):\"))"
   ]
  },
  {
   "cell_type": "code",
   "execution_count": 2,
   "id": "5787189a",
   "metadata": {},
   "outputs": [],
   "source": [
    "# 使用公式來計算BMI\n",
    "BMI = weight/(height**2)"
   ]
  },
  {
   "cell_type": "code",
   "execution_count": 3,
   "id": "7265fc32",
   "metadata": {},
   "outputs": [
    {
     "name": "stdout",
     "output_type": "stream",
     "text": [
      "您的BMI是:19.53\n"
     ]
    }
   ],
   "source": [
    "# 顯示計算得到的BMI值\n",
    "print(f\"您的BMI是:{BMI:.2f}\")"
   ]
  }
 ],
 "metadata": {
  "kernelspec": {
   "display_name": "Python 3 (ipykernel)",
   "language": "python",
   "name": "python3"
  },
  "language_info": {
   "codemirror_mode": {
    "name": "ipython",
    "version": 3
   },
   "file_extension": ".py",
   "mimetype": "text/x-python",
   "name": "python",
   "nbconvert_exporter": "python",
   "pygments_lexer": "ipython3",
   "version": "3.9.16"
  }
 },
 "nbformat": 4,
 "nbformat_minor": 5
}
